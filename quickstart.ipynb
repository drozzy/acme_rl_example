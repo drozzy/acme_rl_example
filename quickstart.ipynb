{
 "cells": [
  {
   "cell_type": "markdown",
   "metadata": {
    "colab_type": "text",
    "id": "ULdrhOaVbsdO"
   },
   "source": [
    "# Acme: Quickstart"
   ]
  },
  {
   "cell_type": "code",
   "execution_count": 1,
   "metadata": {
    "cellView": "both",
    "colab": {},
    "colab_type": "code",
    "id": "HJ74Id-8MERq"
   },
   "outputs": [],
   "source": [
    "import copy\n",
    "import IPython\n",
    "\n",
    "\n",
    "from acme import environment_loop\n",
    "from acme.tf import networks\n",
    "from acme.adders import reverb as adders\n",
    "from acme.agents.tf import actors as actors\n",
    "from acme.datasets import reverb as datasets\n",
    "from acme.wrappers import gym_wrapper\n",
    "from acme import specs\n",
    "from acme import wrappers\n",
    "from acme.agents.tf import d4pg\n",
    "from acme.agents import agent\n",
    "from acme.tf import utils as tf2_utils\n",
    "from acme.utils import loggers\n",
    "\n",
    "import gym\n",
    "import dm_env\n",
    "import matplotlib.pyplot as plt\n",
    "import numpy as np\n",
    "import reverb\n",
    "import sonnet as snt\n",
    "import tensorflow as tf\n",
    "\n",
    "# Import dm_control if it exists.\n",
    "try:\n",
    "    from dm_control import suite\n",
    "except (OSError, ModuleNotFoundError):\n",
    "    pass\n"
   ]
  },
  {
   "cell_type": "markdown",
   "metadata": {
    "colab_type": "text",
    "id": "I6KuVGSk4uc9"
   },
   "source": [
    "## Load an environment\n",
    "\n",
    "We can now load an environment. In what follows we'll create an environment and grab the environment's specifications."
   ]
  },
  {
   "cell_type": "code",
   "execution_count": 2,
   "metadata": {
    "cellView": "both",
    "colab": {},
    "colab_type": "code",
    "id": "4PVlHtGF5yzt"
   },
   "outputs": [],
   "source": [
    "environment = gym_wrapper.GymWrapper(gym.make('MountainCarContinuous-v0'))\n",
    "environment = wrappers.SinglePrecisionWrapper(environment)\n",
    "\n",
    "def render(env):\n",
    "    return env.environment.render(mode='rgb_array')\n",
    "\n",
    "# Grab the spec of the environment.\n",
    "environment_spec = specs.make_environment_spec(environment)"
   ]
  },
  {
   "cell_type": "markdown",
   "metadata": {
    "colab_type": "text",
    "id": "BukOfOsmtSQn"
   },
   "source": [
    " ## Create a D4PG agent"
   ]
  },
  {
   "cell_type": "code",
   "execution_count": 3,
   "metadata": {
    "colab": {},
    "colab_type": "code",
    "id": "3Jcjk1w6oHVX"
   },
   "outputs": [],
   "source": [
    "#@title Build agent networks\n",
    "\n",
    "# Get total number of action dimensions from action spec.\n",
    "num_dimensions = np.prod(environment_spec.actions.shape, dtype=int)\n",
    "\n",
    "# Create the shared observation network; here simply a state-less operation.\n",
    "observation_network = tf2_utils.batch_concat\n",
    "\n",
    "# Create the deterministic policy network.\n",
    "policy_network = snt.Sequential([\n",
    "    networks.LayerNormMLP((256, 256, 256), activate_final=True),\n",
    "    networks.NearZeroInitializedLinear(num_dimensions),\n",
    "    networks.TanhToSpec(environment_spec.actions),\n",
    "])\n",
    "\n",
    "# Create the distributional critic network.\n",
    "critic_network = snt.Sequential([\n",
    "    # The multiplexer concatenates the observations/actions.\n",
    "    networks.CriticMultiplexer(),\n",
    "    networks.LayerNormMLP((512, 512, 256), activate_final=True),\n",
    "    networks.DiscreteValuedHead(vmin=-150., vmax=150., num_atoms=51),\n",
    "])\n"
   ]
  },
  {
   "cell_type": "code",
   "execution_count": 4,
   "metadata": {
    "colab": {},
    "colab_type": "code",
    "id": "4e_ytXw5tlkd"
   },
   "outputs": [],
   "source": [
    "# Create a logger for agent specific diagnostics.\n",
    "agent_logger = loggers.TerminalLogger(label='agent', time_delta=10)\n",
    "\n",
    "# Create the D4PG agent.\n",
    "agent = d4pg.D4PG(\n",
    "    environment_spec=environment_spec,\n",
    "    policy_network=policy_network,\n",
    "    critic_network=critic_network,\n",
    "    observation_network=observation_network,\n",
    "    logger=agent_logger,\n",
    "    checkpoint=False\n",
    ")"
   ]
  },
  {
   "cell_type": "markdown",
   "metadata": {
    "colab_type": "text",
    "id": "oKeGQxzitXYC"
   },
   "source": [
    "## Run a training loop"
   ]
  },
  {
   "cell_type": "code",
   "execution_count": 15,
   "metadata": {
    "colab": {},
    "colab_type": "code",
    "id": "VWZd5N-Qoz82",
    "scrolled": false
   },
   "outputs": [
    {
     "name": "stdout",
     "output_type": "stream",
     "text": [
      "[Agent] Critic Loss = 0.417 | Policy Loss = 0.000 | Steps = 12988 | Walltime = 274.950\n",
      "[Agent] Critic Loss = 0.406 | Policy Loss = 0.000 | Steps = 13961 | Walltime = 284.958\n",
      "[Env Loop] Episode Length = 999 | Episode Return = -11.474 | Episodes = 8 | Steps = 7992 | Steps Per Second = 826.953\n",
      "[Agent] Critic Loss = 0.395 | Policy Loss = 0.000 | Steps = 14953 | Walltime = 294.958\n",
      "[Env Loop] Episode Length = 999 | Episode Return = -9.487 | Episodes = 16 | Steps = 15984 | Steps Per Second = 829.099\n",
      "[Agent] Critic Loss = 0.403 | Policy Loss = 0.000 | Steps = 15942 | Walltime = 304.967\n",
      "[Env Loop] Episode Length = 999 | Episode Return = -9.438 | Episodes = 24 | Steps = 23976 | Steps Per Second = 827.074\n",
      "[Agent] Critic Loss = 0.404 | Policy Loss = 0.000 | Steps = 16934 | Walltime = 314.967\n",
      "[Env Loop] Episode Length = 999 | Episode Return = -8.877 | Episodes = 32 | Steps = 31968 | Steps Per Second = 830.415\n",
      "[Agent] Critic Loss = 0.408 | Policy Loss = 0.000 | Steps = 17927 | Walltime = 324.974\n",
      "[Env Loop] Episode Length = 999 | Episode Return = -9.901 | Episodes = 40 | Steps = 39960 | Steps Per Second = 828.293\n",
      "[Agent] Critic Loss = 0.397 | Policy Loss = 0.000 | Steps = 18920 | Walltime = 334.982\n",
      "[Env Loop] Episode Length = 999 | Episode Return = -8.958 | Episodes = 48 | Steps = 47952 | Steps Per Second = 832.915\n",
      "[Agent] Critic Loss = 0.381 | Policy Loss = 0.000 | Steps = 19890 | Walltime = 344.983\n",
      "[Env Loop] Episode Length = 999 | Episode Return = -8.878 | Episodes = 56 | Steps = 55944 | Steps Per Second = 768.241\n",
      "[Agent] Critic Loss = 0.376 | Policy Loss = 0.000 | Steps = 20848 | Walltime = 354.988\n",
      "[Env Loop] Episode Length = 999 | Episode Return = -9.171 | Episodes = 64 | Steps = 63936 | Steps Per Second = 820.505\n",
      "[Agent] Critic Loss = 0.377 | Policy Loss = 0.000 | Steps = 21800 | Walltime = 364.994\n",
      "[Env Loop] Episode Length = 999 | Episode Return = -8.760 | Episodes = 72 | Steps = 71928 | Steps Per Second = 799.264\n",
      "[Agent] Critic Loss = 0.396 | Policy Loss = 0.000 | Steps = 22765 | Walltime = 374.997\n",
      "[Env Loop] Episode Length = 999 | Episode Return = -9.615 | Episodes = 80 | Steps = 79920 | Steps Per Second = 820.153\n",
      "[Agent] Critic Loss = 0.398 | Policy Loss = 0.000 | Steps = 23738 | Walltime = 385.005\n",
      "[Env Loop] Episode Length = 999 | Episode Return = -9.430 | Episodes = 88 | Steps = 87912 | Steps Per Second = 808.234\n",
      "[Agent] Critic Loss = 0.391 | Policy Loss = 0.000 | Steps = 24711 | Walltime = 395.015\n",
      "[Env Loop] Episode Length = 999 | Episode Return = -9.049 | Episodes = 96 | Steps = 95904 | Steps Per Second = 817.253\n"
     ]
    }
   ],
   "source": [
    "# Create a logger for agent specific diagnostics.\n",
    "env_loop_logger = loggers.TerminalLogger(label='env_loop', time_delta=10)\n",
    "\n",
    "env_loop = environment_loop.EnvironmentLoop(environment, agent, logger=env_loop_logger)\n",
    "env_loop.run(num_episodes=100)"
   ]
  },
  {
   "cell_type": "markdown",
   "metadata": {
    "colab_type": "text",
    "id": "Do57Ql4ZsWDu"
   },
   "source": [
    "## (Optional) Visualize an evaluation loop\n"
   ]
  },
  {
   "cell_type": "code",
   "execution_count": 11,
   "metadata": {
    "colab": {},
    "colab_type": "code",
    "id": "L_3go1Pd1jwg"
   },
   "outputs": [],
   "source": [
    "# Install and import the necessary dependencies for visualization\n",
    "\n",
    "# !sudo apt-get install -y xvfb \n",
    "\n",
    "import pyvirtualdisplay\n",
    "import imageio\n",
    "import base64\n",
    "\n",
    "# Set up a virtual display for rendering OpenAI gym environments.\n",
    "display = pyvirtualdisplay.Display(visible=0, size=(1400, 900)).start()\n"
   ]
  },
  {
   "cell_type": "code",
   "execution_count": 19,
   "metadata": {
    "colab": {},
    "colab_type": "code",
    "id": "OIJRbtAlxQVu"
   },
   "outputs": [],
   "source": [
    "def display_video(frames, filename='temp.mp4'):\n",
    "    \"\"\"Save and display video.\"\"\"\n",
    "    # Write video\n",
    "    with imageio.get_writer(filename, fps=60) as video:\n",
    "        for frame in frames:\n",
    "            video.append_data(frame)\n",
    "    # Read video and display the video\n",
    "    video = open(filename, 'rb').read()\n",
    "    b64_video = base64.b64encode(video)\n",
    "    video_tag = ('<video  width=\"320\" height=\"240\" controls alt=\"test\" '\n",
    "               'src=\"data:video/mp4;base64,{0}\">').format(b64_video.decode())\n",
    "    return IPython.display.HTML(video_tag)"
   ]
  },
  {
   "cell_type": "code",
   "execution_count": 18,
   "metadata": {
    "colab": {},
    "colab_type": "code",
    "id": "2__mFiraWND1"
   },
   "outputs": [
    {
     "name": "stderr",
     "output_type": "stream",
     "text": [
      "IMAGEIO FFMPEG_WRITER WARNING: input image is not divisible by macro_block_size=16, resizing from (600, 400) to (608, 400) to ensure video compatibility with most codecs and players. To prevent resizing, make your input image divisible by the macro_block_size or set the macro_block_size to 1 (risking incompatibility).\n"
     ]
    },
    {
     "data": {
      "text/html": [
       "<video  width=\"320\" height=\"240\" controls alt=\"test\" src=\"data:video/mp4;base64,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\">"
      ],
      "text/plain": [
       "<IPython.core.display.HTML object>"
      ]
     },
     "execution_count": 18,
     "metadata": {},
     "output_type": "execute_result"
    }
   ],
   "source": [
    "# Run the actor in the environment for desired number of steps.\n",
    "frames = []\n",
    "num_steps = 100\n",
    "timestep = environment.reset()\n",
    "\n",
    "for _ in range(num_steps):\n",
    "    frames.append(render(environment))\n",
    "    action = agent.select_action(timestep.observation)\n",
    "    timestep = environment.step(action)\n",
    "\n",
    "# Save video of the behaviour.\n",
    "display_video(np.array(frames))"
   ]
  },
  {
   "cell_type": "code",
   "execution_count": null,
   "metadata": {},
   "outputs": [],
   "source": []
  }
 ],
 "metadata": {
  "colab": {
   "collapsed_sections": [],
   "name": "Acme: Quickstart",
   "provenance": [],
   "toc_visible": true
  },
  "kernelspec": {
   "display_name": "Python 3",
   "language": "python",
   "name": "python3"
  },
  "language_info": {
   "codemirror_mode": {
    "name": "ipython",
    "version": 3
   },
   "file_extension": ".py",
   "mimetype": "text/x-python",
   "name": "python",
   "nbconvert_exporter": "python",
   "pygments_lexer": "ipython3",
   "version": "3.8.3"
  }
 },
 "nbformat": 4,
 "nbformat_minor": 1
}
